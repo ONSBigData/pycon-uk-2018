{
 "cells": [
  {
   "cell_type": "code",
   "execution_count": 1,
   "metadata": {
    "slideshow": {
     "slide_type": "skip"
    }
   },
   "outputs": [
    {
     "data": {
      "text/html": [
       "\n",
       "        <script>\n",
       "            function code_toggle_1791770382805410753() {\n",
       "                $('div.cell.code_cell.rendered.selected').find('div.input').toggle();\n",
       "            }\n",
       "            \n",
       "            \n",
       "        </script>\n",
       "        \n",
       "        <a href=\"javascript:code_toggle_1791770382805410753()\">Toggle show/hide</a>\n",
       "    "
      ],
      "text/plain": [
       "<IPython.core.display.HTML object>"
      ]
     },
     "execution_count": 1,
     "metadata": {},
     "output_type": "execute_result"
    }
   ],
   "source": [
    "from IPython.display import HTML\n",
    "import random\n",
    "\n",
    "def hide_toggle(for_next=False):\n",
    "    this_cell = \"\"\"$('div.cell.code_cell.rendered.selected')\"\"\"\n",
    "    next_cell = this_cell + '.next()'\n",
    "    \n",
    "    toggle_text = 'Toggle show/hide'  # text shown on toggle link\n",
    "    target_cell = this_cell  # target cell to control with toggle\n",
    "    js_hide_current = ''  # bit of JS to permanently hide code in current cell (only when toggling next cell)\n",
    "    \n",
    "    if for_next:\n",
    "        target_cell = next_cell\n",
    "        toggle_text += ' next cell'\n",
    "        js_hide_current = this_cell + '.find(\"div.input\").hide();'\n",
    "        \n",
    "    js_f_name = f'code_toggle_{random.randint(1,2**64)}'\n",
    "        \n",
    "    html = \"\"\"\n",
    "        <script>\n",
    "            function {f_name}() {{\n",
    "                {cell_selector}.find('div.input').toggle();\n",
    "            }}\n",
    "            \n",
    "            {js_hide_current}\n",
    "        </script>\n",
    "        \n",
    "        <a href=\"javascript:{f_name}()\">{toggle_text}</a>\n",
    "    \"\"\".format(\n",
    "        f_name=js_f_name,\n",
    "        cell_selector=target_cell,\n",
    "        js_hide_current=js_hide_current, \n",
    "        toggle_text=toggle_text\n",
    "    )\n",
    "    \n",
    "    return HTML(html)\n",
    "        \n",
    "def toggle_html_cells():\n",
    "    looking_for = \"%%\" + \"html\"\n",
    "    \n",
    "    html = \"\"\"\n",
    "        <script>\n",
    "            function toggle_htmls() {{\n",
    "                $('div.cell.code_cell.rendered:contains(\"{}\")').find(\"div.input\").toggle();\n",
    "            }}\n",
    "            \n",
    "            toggle_htmls();\n",
    "        </script>\n",
    "        \n",
    "        <a href=\"javascript:toggle_htmls()\">Toggle html cells</a>\n",
    "    \"\"\".format(looking_for)\n",
    "    \n",
    "    return HTML(html)\n",
    "\n",
    "hide_toggle()"
   ]
  },
  {
   "cell_type": "code",
   "execution_count": 2,
   "metadata": {
    "slideshow": {
     "slide_type": "skip"
    }
   },
   "outputs": [
    {
     "data": {
      "text/html": [
       "\n",
       "        <script>\n",
       "            function toggle_htmls() {\n",
       "                $('div.cell.code_cell.rendered:contains(\"%%html\")').find(\"div.input\").toggle();\n",
       "            }\n",
       "            \n",
       "            toggle_htmls();\n",
       "        </script>\n",
       "        \n",
       "        <a href=\"javascript:toggle_htmls()\">Toggle html cells</a>\n",
       "    "
      ],
      "text/plain": [
       "<IPython.core.display.HTML object>"
      ]
     },
     "execution_count": 2,
     "metadata": {},
     "output_type": "execute_result"
    }
   ],
   "source": [
    "toggle_html_cells()"
   ]
  },
  {
   "cell_type": "markdown",
   "metadata": {
    "slideshow": {
     "slide_type": "slide"
    }
   },
   "source": [
    "# About PyCon UK 2018"
   ]
  },
  {
   "cell_type": "markdown",
   "metadata": {
    "slideshow": {
     "slide_type": "slide"
    }
   },
   "source": [
    "# PyCon"
   ]
  },
  {
   "cell_type": "markdown",
   "metadata": {
    "slideshow": {
     "slide_type": "-"
    }
   },
   "source": [
    "* The Python Conference (PyCon) *is an annual convention for the discussion and promotion of the Python programming language*\n",
    "* Originated in US, 2003\n",
    "* Many PyCons now (~50) - several in US, Slovakia, Africa... ([list of PyCons](https://www.pycon.org/))"
   ]
  },
  {
   "cell_type": "markdown",
   "metadata": {
    "slideshow": {
     "slide_type": "slide"
    }
   },
   "source": [
    "# Practicalities"
   ]
  },
  {
   "cell_type": "markdown",
   "metadata": {
    "slideshow": {
     "slide_type": "-"
    }
   },
   "source": [
    "### How much? \n",
    "* 450 GBP per 5 days (corporate rate)\n",
    "* 50% for individuals\n",
    "* Financial assistance avaialable"
   ]
  },
  {
   "cell_type": "markdown",
   "metadata": {
    "slideshow": {
     "slide_type": "subslide"
    }
   },
   "source": [
    "### Where?\n",
    "* In Cardiff City Hall"
   ]
  },
  {
   "cell_type": "markdown",
   "metadata": {
    "slideshow": {
     "slide_type": "-"
    }
   },
   "source": [
    "<img style=\"float:center; height:400px\" src=\"pics/pycon/hall.jpg\" />"
   ]
  },
  {
   "cell_type": "markdown",
   "metadata": {
    "slideshow": {
     "slide_type": "subslide"
    }
   },
   "source": [
    "### Time wise?"
   ]
  },
  {
   "cell_type": "code",
   "execution_count": 5,
   "metadata": {
    "slideshow": {
     "slide_type": "-"
    }
   },
   "outputs": [
    {
     "data": {
      "text/html": [
       "\n",
       "<style>\n",
       "    div.schedule {\n",
       "        font-family: \"Trebuchet MS\", Helvetica, sans-serif;\n",
       "        font-size: 15pt;\n",
       "        line-height: 1.6\n",
       "    }\n",
       "\n",
       "    div.flleft {\n",
       "        width: 20%; \n",
       "        float: left; \n",
       "        font-family: \"Courier New\", Courier, monospace;\n",
       "    }\n",
       "    div.flright {\n",
       "        width: 80%; \n",
       "        float: right\n",
       "    }\n",
       "    div.break {\n",
       "        color: teal;\n",
       "        font-style: italic;\n",
       "    }\n",
       "    div.prg {\n",
       "        font-weight: 800;\n",
       "    }\n",
       "</style>\n",
       "\n",
       "\n",
       "<div class=\"schedule\">\n",
       "    <div class=\"flleft\"> 9:00</div> <div class=\"flright prg\">Intro, Keynote, 1 talk</div><br>\n",
       "    <div class=\"flleft\">  </div> <div class=\"flright break\"> BREAK </div><br>\n",
       "    <div class=\"flleft\"> 11:30 - 13:00</div> <div class=\"flright prg\">Parallel sessions</div><br>\n",
       "    <div class=\"flleft\"> </div> <div class=\"flright break\">LUNCH</div><br>\n",
       "    <div class=\"flleft\"> 14:30 - 16:00</div> <div class=\"flright prg\">Parallel sessions</div><br>\n",
       "    <div class=\"flleft\"> </div> <div class=\"flright break\">BREAK</div><br>\n",
       "    <div class=\"flleft\"> 17:30 - 18:30</div> <div class=\"flright prg\">Parallel sessions</div><br>\n",
       "    <div class=\"flleft\"> 18:30 - 19:30</div> <div class=\"flright prg\">Lightning talks</div><br>\n",
       "    <div class=\"flleft\"> </div> <div class=\"flright break\">DINNER</div><br>\n",
       "    <div class=\"flleft\"> 19:30 - ...</div> <div class=\"flright prg\">Evening program (Board games, Coder dojo, Music night)</div>\n",
       "</div>\n"
      ],
      "text/plain": [
       "<IPython.core.display.HTML object>"
      ]
     },
     "metadata": {},
     "output_type": "display_data"
    }
   ],
   "source": [
    "%%html\n",
    "\n",
    "<style>\n",
    "    div.schedule {\n",
    "        font-family: \"Trebuchet MS\", Helvetica, sans-serif;\n",
    "        font-size: 15pt;\n",
    "        line-height: 1.6\n",
    "    }\n",
    "\n",
    "    div.flleft {\n",
    "        width: 20%; \n",
    "        float: left; \n",
    "        font-family: \"Courier New\", Courier, monospace;\n",
    "    }\n",
    "    div.flright {\n",
    "        width: 80%; \n",
    "        float: right\n",
    "    }\n",
    "    div.break {\n",
    "        color: teal;\n",
    "        font-style: italic;\n",
    "    }\n",
    "    div.prg {\n",
    "        font-weight: 800;\n",
    "    }\n",
    "</style>\n",
    "\n",
    "\n",
    "<div class=\"schedule\">\n",
    "    <div class=\"flleft\"> 9:00</div> <div class=\"flright prg\">Intro, Keynote, 1 talk</div><br>\n",
    "    <div class=\"flleft\">  </div> <div class=\"flright break\"> BREAK </div><br>\n",
    "    <div class=\"flleft\"> 11:30 - 13:00</div> <div class=\"flright prg\">Parallel sessions</div><br>\n",
    "    <div class=\"flleft\"> </div> <div class=\"flright break\">LUNCH</div><br>\n",
    "    <div class=\"flleft\"> 14:30 - 16:00</div> <div class=\"flright prg\">Parallel sessions</div><br>\n",
    "    <div class=\"flleft\"> </div> <div class=\"flright break\">BREAK</div><br>\n",
    "    <div class=\"flleft\"> 17:30 - 18:30</div> <div class=\"flright prg\">Parallel sessions</div><br>\n",
    "    <div class=\"flleft\"> 18:30 - 19:30</div> <div class=\"flright prg\">Lightning talks</div><br>\n",
    "    <div class=\"flleft\"> </div> <div class=\"flright break\">DINNER</div><br>\n",
    "    <div class=\"flleft\"> 19:30 - ...</div> <div class=\"flright prg\">Evening program (Board games, Coder dojo, Music night)</div>\n",
    "</div>"
   ]
  },
  {
   "cell_type": "markdown",
   "metadata": {
    "slideshow": {
     "slide_type": "-"
    }
   },
   "source": [
    "<img style=\"display: block; margin-left: auto; margin-right: auto; height: 110px\" src=\"pics/pycon/beerpizzas.png\" />\n"
   ]
  },
  {
   "cell_type": "markdown",
   "metadata": {
    "slideshow": {
     "slide_type": "subslide"
    }
   },
   "source": [
    "### FOOD?!!!"
   ]
  },
  {
   "cell_type": "code",
   "execution_count": 4,
   "metadata": {},
   "outputs": [
    {
     "data": {
      "text/html": [
       "\n",
       "<style>\n",
       "    .column {\n",
       "      float: left;\n",
       "      width: 50%;\n",
       "      padding: 5px;\n",
       "    }\n",
       "\n",
       "    .row::after {\n",
       "      content: \"\";\n",
       "      clear: both;\n",
       "      display: table;\n",
       "    }\n",
       "</style>\n",
       "\n",
       "<div class=\"row\">\n",
       "    <div class=\"column\">\n",
       "        <ul>\n",
       "            <li> Tea/Coffee throughout the day\n",
       "            <li> SPLENDID Welsh Cakes for breakfast\n",
       "            <li> Catered lunch\n",
       "            <li> Self-funded dinners every day\n",
       "            <li> Pizza van for evening events\n",
       "        </ul>\n",
       "    </div>\n",
       "    <div class=\"column\">\n",
       "        <img style=\"height: 200px\" src=\"pics/pycon/welsh-cake.jpg\" />\n",
       "    </div>\n",
       "</div>\n"
      ],
      "text/plain": [
       "<IPython.core.display.HTML object>"
      ]
     },
     "metadata": {},
     "output_type": "display_data"
    }
   ],
   "source": [
    "%%html \n",
    "\n",
    "<style>\n",
    "    .column {\n",
    "      float: left;\n",
    "      width: 50%;\n",
    "      padding: 5px;\n",
    "    }\n",
    "\n",
    "    .row::after {\n",
    "      content: \"\";\n",
    "      clear: both;\n",
    "      display: table;\n",
    "    }\n",
    "</style>\n",
    "\n",
    "<div class=\"row\">\n",
    "    <div class=\"column\">\n",
    "        <ul>\n",
    "            <li> Tea/Coffee throughout the day\n",
    "            <li> SPLENDID Welsh Cakes for breakfast\n",
    "            <li> Catered lunch\n",
    "            <li> Self-funded dinners every day\n",
    "            <li> Pizza van for evening events\n",
    "        </ul>\n",
    "    </div>\n",
    "    <div class=\"column\">\n",
    "        <img style=\"height: 200px\" src=\"pics/pycon/welsh-cake.jpg\" />\n",
    "    </div>\n",
    "</div>"
   ]
  },
  {
   "cell_type": "markdown",
   "metadata": {
    "slideshow": {
     "slide_type": "subslide"
    }
   },
   "source": [
    "<img style=\"float:center;transform: rotate(-90deg); width:1000px\" src=\"pics/pycon/lunch.JPG\" />"
   ]
  },
  {
   "cell_type": "markdown",
   "metadata": {
    "slideshow": {
     "slide_type": "subslide"
    }
   },
   "source": [
    "<img style=\"float:center; width:800px\" src=\"pics/pycon/clink.JPG\" />"
   ]
  },
  {
   "cell_type": "markdown",
   "metadata": {
    "slideshow": {
     "slide_type": "slide"
    }
   },
   "source": [
    "# Strong principles"
   ]
  },
  {
   "cell_type": "markdown",
   "metadata": {
    "slideshow": {
     "slide_type": "subslide"
    }
   },
   "source": [
    "### Inclusive\n",
    "\n",
    "* CoC: separate page on their website, repeated over and over again\n",
    "* How to ask a question\n",
    "* Speech-to-text transcription\n",
    "* Child care (free creche)\n",
    "* Financial assistance for tickets"
   ]
  },
  {
   "cell_type": "markdown",
   "metadata": {
    "slideshow": {
     "slide_type": "subslide"
    }
   },
   "source": [
    "### Run by volunteers\n",
    "\n",
    "* Organizers are volunteers (paying for their tickets!)\n",
    "* Lots of open source contributors"
   ]
  },
  {
   "cell_type": "markdown",
   "metadata": {
    "slideshow": {
     "slide_type": "subslide"
    }
   },
   "source": [
    "### Environmentally friendly:\n",
    "* The only thing we were given was a pass (hard paper) and lanyard\n",
    "* Rest online (e.g. schedule https://2018.hq.pyconuk.org/schedule/)"
   ]
  },
  {
   "cell_type": "markdown",
   "metadata": {
    "slideshow": {
     "slide_type": "subslide"
    }
   },
   "source": [
    "### Good tech:\n",
    "* Quick and easy signups (even for dinners)\n",
    "* Slack for announcements\n",
    "* Buckets for lightning talks :-)"
   ]
  },
  {
   "cell_type": "markdown",
   "metadata": {
    "slideshow": {
     "slide_type": "slide"
    }
   },
   "source": [
    "# Schedule 2018"
   ]
  },
  {
   "cell_type": "markdown",
   "metadata": {
    "slideshow": {
     "slide_type": "-"
    }
   },
   "source": [
    "* Schedule online: https://2018.hq.pyconuk.org/schedule/\n",
    "    * At any time, DS related talk\n",
    "* Videos online: https://www.youtube.com/channel/UChA9XP_feY1-1oSy2L7acog/videos"
   ]
  }
 ],
 "metadata": {
  "celltoolbar": "Slideshow",
  "kernelspec": {
   "display_name": "Python 3",
   "language": "python",
   "name": "python3"
  },
  "language_info": {
   "codemirror_mode": {
    "name": "ipython",
    "version": 3
   },
   "file_extension": ".py",
   "mimetype": "text/x-python",
   "name": "python",
   "nbconvert_exporter": "python",
   "pygments_lexer": "ipython3",
   "version": "3.7.0"
  }
 },
 "nbformat": 4,
 "nbformat_minor": 2
}
