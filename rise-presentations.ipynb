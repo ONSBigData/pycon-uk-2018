{
 "cells": [
  {
   "cell_type": "markdown",
   "metadata": {
    "slideshow": {
     "slide_type": "slide"
    }
   },
   "source": [
    "# Why RISE?"
   ]
  },
  {
   "cell_type": "markdown",
   "metadata": {
    "slideshow": {
     "slide_type": "subslide"
    }
   },
   "source": [
    "### Put simply..."
   ]
  },
  {
   "cell_type": "code",
   "execution_count": 39,
   "metadata": {
    "slideshow": {
     "slide_type": "-"
    }
   },
   "outputs": [
    {
     "name": "stdout",
     "output_type": "stream",
     "text": [
      "2 + 3 = 5\n"
     ]
    }
   ],
   "source": [
    "x = 2\n",
    "y = 3\n",
    "\n",
    "print(f\"{x} + {y} = {x + y}\")"
   ]
  },
  {
   "cell_type": "markdown",
   "metadata": {
    "slideshow": {
     "slide_type": "subslide"
    }
   },
   "source": [
    "### Some proper example (Titanic data)"
   ]
  },
  {
   "cell_type": "code",
   "execution_count": 40,
   "metadata": {
    "slideshow": {
     "slide_type": "-"
    }
   },
   "outputs": [],
   "source": [
    "import wget\n",
    "fname = wget.download('http://web.stanford.edu/class/archive/cs/cs109/cs109.1166/stuff/titanic.csv')"
   ]
  },
  {
   "cell_type": "code",
   "execution_count": 41,
   "metadata": {
    "slideshow": {
     "slide_type": "-"
    }
   },
   "outputs": [],
   "source": [
    "import pandas as pd\n",
    "df = pd.read_csv('titanic.csv')"
   ]
  },
  {
   "cell_type": "code",
   "execution_count": 42,
   "metadata": {
    "slideshow": {
     "slide_type": "-"
    }
   },
   "outputs": [
    {
     "data": {
      "text/html": [
       "<div>\n",
       "<style scoped>\n",
       "    .dataframe tbody tr th:only-of-type {\n",
       "        vertical-align: middle;\n",
       "    }\n",
       "\n",
       "    .dataframe tbody tr th {\n",
       "        vertical-align: top;\n",
       "    }\n",
       "\n",
       "    .dataframe thead th {\n",
       "        text-align: right;\n",
       "    }\n",
       "</style>\n",
       "<table border=\"1\" class=\"dataframe\">\n",
       "  <thead>\n",
       "    <tr style=\"text-align: right;\">\n",
       "      <th></th>\n",
       "      <th>Survived</th>\n",
       "      <th>Pclass</th>\n",
       "      <th>Name</th>\n",
       "      <th>Sex</th>\n",
       "      <th>Age</th>\n",
       "      <th>Siblings/Spouses Aboard</th>\n",
       "      <th>Parents/Children Aboard</th>\n",
       "      <th>Fare</th>\n",
       "    </tr>\n",
       "  </thead>\n",
       "  <tbody>\n",
       "    <tr>\n",
       "      <th>0</th>\n",
       "      <td>0</td>\n",
       "      <td>3</td>\n",
       "      <td>Mr. Owen Harris Braund</td>\n",
       "      <td>male</td>\n",
       "      <td>22.0</td>\n",
       "      <td>1</td>\n",
       "      <td>0</td>\n",
       "      <td>7.2500</td>\n",
       "    </tr>\n",
       "    <tr>\n",
       "      <th>1</th>\n",
       "      <td>1</td>\n",
       "      <td>1</td>\n",
       "      <td>Mrs. John Bradley (Florence Briggs Thayer) Cum...</td>\n",
       "      <td>female</td>\n",
       "      <td>38.0</td>\n",
       "      <td>1</td>\n",
       "      <td>0</td>\n",
       "      <td>71.2833</td>\n",
       "    </tr>\n",
       "    <tr>\n",
       "      <th>2</th>\n",
       "      <td>1</td>\n",
       "      <td>3</td>\n",
       "      <td>Miss. Laina Heikkinen</td>\n",
       "      <td>female</td>\n",
       "      <td>26.0</td>\n",
       "      <td>0</td>\n",
       "      <td>0</td>\n",
       "      <td>7.9250</td>\n",
       "    </tr>\n",
       "    <tr>\n",
       "      <th>3</th>\n",
       "      <td>1</td>\n",
       "      <td>1</td>\n",
       "      <td>Mrs. Jacques Heath (Lily May Peel) Futrelle</td>\n",
       "      <td>female</td>\n",
       "      <td>35.0</td>\n",
       "      <td>1</td>\n",
       "      <td>0</td>\n",
       "      <td>53.1000</td>\n",
       "    </tr>\n",
       "    <tr>\n",
       "      <th>4</th>\n",
       "      <td>0</td>\n",
       "      <td>3</td>\n",
       "      <td>Mr. William Henry Allen</td>\n",
       "      <td>male</td>\n",
       "      <td>35.0</td>\n",
       "      <td>0</td>\n",
       "      <td>0</td>\n",
       "      <td>8.0500</td>\n",
       "    </tr>\n",
       "  </tbody>\n",
       "</table>\n",
       "</div>"
      ],
      "text/plain": [
       "   Survived  Pclass                                               Name  \\\n",
       "0         0       3                             Mr. Owen Harris Braund   \n",
       "1         1       1  Mrs. John Bradley (Florence Briggs Thayer) Cum...   \n",
       "2         1       3                              Miss. Laina Heikkinen   \n",
       "3         1       1        Mrs. Jacques Heath (Lily May Peel) Futrelle   \n",
       "4         0       3                            Mr. William Henry Allen   \n",
       "\n",
       "      Sex   Age  Siblings/Spouses Aboard  Parents/Children Aboard     Fare  \n",
       "0    male  22.0                        1                        0   7.2500  \n",
       "1  female  38.0                        1                        0  71.2833  \n",
       "2  female  26.0                        0                        0   7.9250  \n",
       "3  female  35.0                        1                        0  53.1000  \n",
       "4    male  35.0                        0                        0   8.0500  "
      ]
     },
     "execution_count": 42,
     "metadata": {},
     "output_type": "execute_result"
    }
   ],
   "source": [
    "df.head()"
   ]
  },
  {
   "cell_type": "markdown",
   "metadata": {
    "slideshow": {
     "slide_type": "subslide"
    }
   },
   "source": [
    "### Hide the code in **current** cell"
   ]
  },
  {
   "cell_type": "code",
   "execution_count": 43,
   "metadata": {
    "slideshow": {
     "slide_type": "-"
    }
   },
   "outputs": [
    {
     "data": {
      "text/html": [
       "<script>\n",
       "    code_show=true; \n",
       "    function code_toggle() {\n",
       "        if (code_show){\n",
       "            $('div.cell.code_cell.rendered.selected div.input').hide();\n",
       "        } else {\n",
       "            $('div.cell.code_cell.rendered.selected div.input').show();\n",
       "        }\n",
       "        code_show = !code_show\n",
       "    } \n",
       "    </script>\n",
       "\n",
       "    <a href=\"javascript:code_toggle()\">Toggle show/hide</a>."
      ],
      "text/plain": [
       "<IPython.core.display.HTML object>"
      ]
     },
     "execution_count": 43,
     "metadata": {},
     "output_type": "execute_result"
    }
   ],
   "source": [
    "from IPython.display import HTML\n",
    "\n",
    "def hide_toggle():\n",
    "    return HTML('''<script>\n",
    "    code_show=true; \n",
    "    function code_toggle() {\n",
    "        if (code_show){\n",
    "            $('div.cell.code_cell.rendered.selected div.input').hide();\n",
    "        } else {\n",
    "            $('div.cell.code_cell.rendered.selected div.input').show();\n",
    "        }\n",
    "        code_show = !code_show\n",
    "    } \n",
    "    </script>\n",
    "\n",
    "    <a href=\"javascript:code_toggle()\">Toggle show/hide</a>.''')\n",
    "\n",
    "hide_toggle()"
   ]
  },
  {
   "cell_type": "code",
   "execution_count": 44,
   "metadata": {
    "slideshow": {
     "slide_type": "subslide"
    }
   },
   "outputs": [
    {
     "data": {
      "text/html": [
       "<script>requirejs.config({paths: { 'plotly': ['https://cdn.plot.ly/plotly-latest.min']},});if(!window.Plotly) {{require(['plotly'],function(plotly) {window.Plotly=plotly;});}}</script>"
      ],
      "text/vnd.plotly.v1+html": [
       "<script>requirejs.config({paths: { 'plotly': ['https://cdn.plot.ly/plotly-latest.min']},});if(!window.Plotly) {{require(['plotly'],function(plotly) {window.Plotly=plotly;});}}</script>"
      ]
     },
     "metadata": {},
     "output_type": "display_data"
    },
    {
     "data": {
      "text/html": [
       "<script>\n",
       "    code_show=true; \n",
       "    function code_toggle() {\n",
       "        if (code_show){\n",
       "            $('div.cell.code_cell.rendered.selected div.input').hide();\n",
       "        } else {\n",
       "            $('div.cell.code_cell.rendered.selected div.input').show();\n",
       "        }\n",
       "        code_show = !code_show\n",
       "    } \n",
       "    </script>\n",
       "\n",
       "    <a href=\"javascript:code_toggle()\">Toggle show/hide</a>."
      ],
      "text/plain": [
       "<IPython.core.display.HTML object>"
      ]
     },
     "execution_count": 44,
     "metadata": {},
     "output_type": "execute_result"
    }
   ],
   "source": [
    "import plotly.offline as pyoff\n",
    "import plotly.graph_objs as go\n",
    "from plotly.offline import iplot\n",
    "from ipywidgets import widgets, interact\n",
    "\n",
    "pyoff.init_notebook_mode(connected=True)\n",
    "\n",
    "def plot_box(by='Fare'):\n",
    "    box_died = go.Box(y=df[df['Survived'] == 0][by], boxpoints='all', name='Died', boxmean='sd')\n",
    "    box_sur = go.Box(y=df[df['Survived'] == 1][by], boxpoints='all', name='Survived', boxmean='sd')\n",
    "\n",
    "    layout = go.Layout(title=f\"Distributions of {by}\")\n",
    "    \n",
    "    iplot(go.Figure([box_died, box_sur], layout))\n",
    "\n",
    "hide_toggle()"
   ]
  },
  {
   "cell_type": "code",
   "execution_count": 45,
   "metadata": {
    "slideshow": {
     "slide_type": "-"
    }
   },
   "outputs": [
    {
     "data": {
      "application/vnd.jupyter.widget-view+json": {
       "model_id": "7cd6289f4d5c4f408106b08153f6c1c7",
       "version_major": 2,
       "version_minor": 0
      },
      "text/plain": [
       "interactive(children=(Dropdown(description='by', options=('Fare', 'Age', 'Parents/Children Aboard'), value='Fa…"
      ]
     },
     "metadata": {},
     "output_type": "display_data"
    },
    {
     "data": {
      "text/plain": [
       "<function __main__.plot_box(by='Fare')>"
      ]
     },
     "execution_count": 45,
     "metadata": {},
     "output_type": "execute_result"
    }
   ],
   "source": [
    "interact(plot_box, by=['Fare', 'Age', 'Parents/Children Aboard'])"
   ]
  },
  {
   "cell_type": "code",
   "execution_count": 49,
   "metadata": {
    "slideshow": {
     "slide_type": "subslide"
    }
   },
   "outputs": [
    {
     "data": {
      "text/html": [
       "<script>\n",
       "    code_show=true; \n",
       "    function code_toggle() {\n",
       "        if (code_show){\n",
       "            $('div.cell.code_cell.rendered.selected div.input').hide();\n",
       "        } else {\n",
       "            $('div.cell.code_cell.rendered.selected div.input').show();\n",
       "        }\n",
       "        code_show = !code_show\n",
       "    } \n",
       "    </script>\n",
       "\n",
       "    <a href=\"javascript:code_toggle()\">Toggle show/hide</a>."
      ],
      "text/plain": [
       "<IPython.core.display.HTML object>"
      ]
     },
     "execution_count": 49,
     "metadata": {},
     "output_type": "execute_result"
    }
   ],
   "source": [
    "import numpy as np\n",
    "df['Fare bin'] = pd.cut(df['Fare'], bins=[0, 10, 20, 50, 100, 1000])\n",
    "df['Fare bin'] = df['Fare bin'].apply(lambda i: f\"{i.left} - {i.right}\")\n",
    "hm_data = df.pivot_table(index='Sex', columns='Fare bin', values='Survived', aggfunc=np.mean)\n",
    "hm = go.Heatmap(z=hm_data.values, x=hm_data.columns, y=hm_data.index)\n",
    "\n",
    "layout = go.Layout(title='Survival chance by Fare and Sex', \n",
    "                   xaxis={'title': 'Fare bin'},\n",
    "                   yaxis={'nticks': 4, 'title': 'Sex'})\n",
    "\n",
    "hide_toggle()"
   ]
  },
  {
   "cell_type": "code",
   "execution_count": 47,
   "metadata": {
    "slideshow": {
     "slide_type": "-"
    }
   },
   "outputs": [
    {
     "data": {
      "application/vnd.plotly.v1+json": {
       "data": [
        {
         "type": "heatmap",
         "uid": "52004474-c31a-11e8-9f84-57308fcd44c7",
         "x": [
          "0 - 10",
          "10 - 20",
          "20 - 50",
          "50 - 100",
          "100 - 1000"
         ],
         "y": [
          "female",
          "male"
         ],
         "z": [
          [
           0.59375,
           0.9433962264150944,
           0.6588235294117647,
           0.7307692307692307,
           0.9411764705882353
          ],
          [
           0.11023622047244094,
           0.37037037037037035,
           0.2595419847328244,
           0.19,
           0.3684210526315789
          ]
         ]
        }
       ],
       "layout": {
        "title": "Survival chance by Fare and Sex",
        "xaxis": {
         "title": "Fare bin"
        },
        "yaxis": {
         "nticks": 4,
         "title": "Sex"
        }
       }
      },
      "text/html": [
       "<div id=\"cc99ebba-1914-4afe-b111-49c8d1ede603\" style=\"height: 525px; width: 100%;\" class=\"plotly-graph-div\"></div><script type=\"text/javascript\">require([\"plotly\"], function(Plotly) { window.PLOTLYENV=window.PLOTLYENV || {};window.PLOTLYENV.BASE_URL=\"https://plot.ly\";Plotly.newPlot(\"cc99ebba-1914-4afe-b111-49c8d1ede603\", [{\"x\": [\"0 - 10\", \"10 - 20\", \"20 - 50\", \"50 - 100\", \"100 - 1000\"], \"y\": [\"female\", \"male\"], \"z\": [[0.59375, 0.9433962264150944, 0.6588235294117647, 0.7307692307692307, 0.9411764705882353], [0.11023622047244094, 0.37037037037037035, 0.2595419847328244, 0.19, 0.3684210526315789]], \"type\": \"heatmap\", \"uid\": \"52004474-c31a-11e8-9f84-57308fcd44c7\"}], {\"title\": \"Survival chance by Fare and Sex\", \"xaxis\": {\"title\": \"Fare bin\"}, \"yaxis\": {\"nticks\": 4, \"title\": \"Sex\"}}, {\"showLink\": true, \"linkText\": \"Export to plot.ly\"})});</script>"
      ],
      "text/vnd.plotly.v1+html": [
       "<div id=\"cc99ebba-1914-4afe-b111-49c8d1ede603\" style=\"height: 525px; width: 100%;\" class=\"plotly-graph-div\"></div><script type=\"text/javascript\">require([\"plotly\"], function(Plotly) { window.PLOTLYENV=window.PLOTLYENV || {};window.PLOTLYENV.BASE_URL=\"https://plot.ly\";Plotly.newPlot(\"cc99ebba-1914-4afe-b111-49c8d1ede603\", [{\"x\": [\"0 - 10\", \"10 - 20\", \"20 - 50\", \"50 - 100\", \"100 - 1000\"], \"y\": [\"female\", \"male\"], \"z\": [[0.59375, 0.9433962264150944, 0.6588235294117647, 0.7307692307692307, 0.9411764705882353], [0.11023622047244094, 0.37037037037037035, 0.2595419847328244, 0.19, 0.3684210526315789]], \"type\": \"heatmap\", \"uid\": \"52004474-c31a-11e8-9f84-57308fcd44c7\"}], {\"title\": \"Survival chance by Fare and Sex\", \"xaxis\": {\"title\": \"Fare bin\"}, \"yaxis\": {\"nticks\": 4, \"title\": \"Sex\"}}, {\"showLink\": true, \"linkText\": \"Export to plot.ly\"})});</script>"
      ]
     },
     "metadata": {},
     "output_type": "display_data"
    }
   ],
   "source": [
    "iplot(go.Figure([hm], layout))"
   ]
  },
  {
   "cell_type": "markdown",
   "metadata": {
    "slideshow": {
     "slide_type": "slide"
    }
   },
   "source": [
    "# Installing RISE"
   ]
  },
  {
   "cell_type": "markdown",
   "metadata": {
    "slideshow": {
     "slide_type": "subslide"
    }
   },
   "source": [
    "### Install Rise package"
   ]
  },
  {
   "cell_type": "markdown",
   "metadata": {
    "slideshow": {
     "slide_type": "-"
    }
   },
   "source": [
    "`pip install RISE`\n",
    "\n",
    "You will also likely need to run:\n",
    "\n",
    "`jupyter-nbextension install rise --py --sys-prefix`\n",
    "\n",
    "and \n",
    "\n",
    "`jupyter-nbextension enable rise --py --sys-prefix`"
   ]
  },
  {
   "cell_type": "markdown",
   "metadata": {
    "slideshow": {
     "slide_type": "subslide"
    }
   },
   "source": [
    "### Further notes on installation"
   ]
  },
  {
   "cell_type": "markdown",
   "metadata": {
    "slideshow": {
     "slide_type": "-"
    }
   },
   "source": [
    "I also recommend updating Jupyter Notebook to latest version to avoid any compatibility issues. \n",
    "\n",
    "*Note: JupyterLab does not seem to support RISE yet, although work on RISE extension is in progress.*"
   ]
  },
  {
   "cell_type": "markdown",
   "metadata": {
    "slideshow": {
     "slide_type": "fragment"
    }
   },
   "source": [
    "[More info on installation](https://damianavila.github.io/RISE/installation.html#installation)"
   ]
  },
  {
   "cell_type": "markdown",
   "metadata": {
    "slideshow": {
     "slide_type": "slide"
    }
   },
   "source": [
    "# Configuring RISE"
   ]
  },
  {
   "cell_type": "markdown",
   "metadata": {
    "slideshow": {
     "slide_type": "-"
    }
   },
   "source": [
    "*template, transitions, styles...*"
   ]
  },
  {
   "cell_type": "markdown",
   "metadata": {
    "slideshow": {
     "slide_type": "subslide"
    }
   },
   "source": [
    "### Option 1 - modifying `livereveal.json` in `.nbconfig` folder"
   ]
  },
  {
   "cell_type": "markdown",
   "metadata": {
    "slideshow": {
     "slide_type": "-"
    }
   },
   "source": [
    "On my system, the right folder is in `~/.jupyter/nbconfig/`"
   ]
  },
  {
   "cell_type": "markdown",
   "metadata": {
    "slideshow": {
     "slide_type": "-"
    }
   },
   "source": [
    "    ons21553@ons21553 ~/.j/nbconfig> pwd\n",
    "    /home/ons21553/.jupyter/nbconfig\n",
    "    ons21553@ons21553 ~/.j/nbconfig> cat livereveal.json \n",
    "    {\n",
    "      \"theme\": \"sky\",\n",
    "      \"transition\": \"zoom\",\n",
    "      \"start_slideshow_at\": \"selected\"\n",
    "    }"
   ]
  },
  {
   "cell_type": "markdown",
   "metadata": {
    "slideshow": {
     "slide_type": "subslide"
    }
   },
   "source": [
    "##### The config can be modified directly from jupyter notebook."
   ]
  },
  {
   "cell_type": "code",
   "execution_count": 48,
   "metadata": {
    "slideshow": {
     "slide_type": "-"
    }
   },
   "outputs": [
    {
     "data": {
      "text/plain": [
       "{'theme': 'sky', 'transition': 'zoom', 'start_slideshow_at': 'selected'}"
      ]
     },
     "execution_count": 48,
     "metadata": {},
     "output_type": "execute_result"
    }
   ],
   "source": [
    "from traitlets.config.manager import BaseJSONConfigManager\n",
    "path = \"/home/ons21553/.jupyter/nbconfig\"\n",
    "cm = BaseJSONConfigManager(config_dir=path)\n",
    "cm.update(\"livereveal\", {\n",
    "              \"theme\": \"sky\",\n",
    "              \"transition\": \"zoom\",\n",
    "              \"start_slideshow_at\": \"selected\",\n",
    "})"
   ]
  },
  {
   "cell_type": "markdown",
   "metadata": {},
   "source": [
    "[link for more info](https://damianavila.github.io/RISE/customize.html#using-python)"
   ]
  },
  {
   "cell_type": "markdown",
   "metadata": {
    "slideshow": {
     "slide_type": "subslide"
    }
   },
   "source": [
    "### Option 2 - Edit notebook metadata"
   ]
  },
  {
   "cell_type": "markdown",
   "metadata": {
    "slideshow": {
     "slide_type": "-"
    }
   },
   "source": [
    "Edit menu -> \"Edit notebook metadata\"\n",
    "\n",
    "Put in e.g. \n",
    "\n",
    "```json\n",
    "\"livereveal\": { \n",
    "    \"start_slideshow_at\": \"selected\",\n",
    "    \"theme\": \"sky\",\n",
    "    \"transition\": \"zoom\",\n",
    "    \"scroll\": \"true\"\n",
    "}\n",
    "```"
   ]
  },
  {
   "cell_type": "markdown",
   "metadata": {
    "slideshow": {
     "slide_type": "subslide"
    }
   },
   "source": [
    "**You need to reload the notebook to apply the changes**"
   ]
  },
  {
   "cell_type": "markdown",
   "metadata": {
    "slideshow": {
     "slide_type": "slide"
    }
   },
   "source": [
    "# Custom CSS"
   ]
  },
  {
   "cell_type": "markdown",
   "metadata": {
    "slideshow": {
     "slide_type": "subslide"
    }
   },
   "source": [
    "To adjust the look and feel of the presentation, you may use custom CSS.\n",
    "\n",
    "Name the file `rise.css` and place it in the directory along with the notebook.\n",
    "\n",
    "[More info](https://damianavila.github.io/RISE/customize.html#adding-custom-css)"
   ]
  },
  {
   "cell_type": "markdown",
   "metadata": {
    "slideshow": {
     "slide_type": "subslide"
    }
   },
   "source": [
    "### Example CSS\n",
    "\n",
    "```css\n",
    ".rise-enabled h1 {\n",
    "    text-align: center;\n",
    "}\n",
    "\n",
    ".rise-enabled div#notebook {\n",
    "    background-image: url(\"css-pics/bd_logo.png\"), url(\"css-pics/white-background.jpg\");\n",
    "    background-position: 98% 2%, center;\n",
    "    background-repeat: no-repeat, no-repeat;\n",
    "    background-size: 100px 100px, cover;\n",
    "}\n",
    "\n",
    "```\n",
    "\n",
    "Note the `.rise-enabled` prefix - this ensure the styles are applied only in presentation mode"
   ]
  },
  {
   "cell_type": "markdown",
   "metadata": {},
   "source": [
    "# Shortcuts"
   ]
  },
  {
   "cell_type": "markdown",
   "metadata": {},
   "source": [
    "alt + R -> enter/exit presentation\n",
    "\n",
    "space -> next\n",
    "\n",
    "shift + space -> previous"
   ]
  },
  {
   "cell_type": "markdown",
   "metadata": {},
   "source": [
    "![](pics/shortcuts.png)"
   ]
  },
  {
   "cell_type": "markdown",
   "metadata": {
    "slideshow": {
     "slide_type": "slide"
    }
   },
   "source": [
    "# My Binder"
   ]
  },
  {
   "cell_type": "markdown",
   "metadata": {
    "slideshow": {
     "slide_type": "subslide"
    }
   },
   "source": [
    "### Files in the repo\n",
    "\n",
    "- **jupyter notebooks**\n",
    "- **requirements.txt**\n",
    "\n",
    "```\n",
    "rise==5.4.1\n",
    "pandas==0.23.0\n",
    "plotly==3.2.1\n",
    "ipywidgets==7.2.1\n",
    "```"
   ]
  },
  {
   "cell_type": "markdown",
   "metadata": {
    "slideshow": {
     "slide_type": "subslide"
    }
   },
   "source": [
    "- **rise.css**\n",
    "\n",
    "```css\n",
    ".rise-enabled h1 {\n",
    "    text-align: center;\n",
    "}\n",
    "\n",
    ".rise-enabled div#notebook {\n",
    "    background-image: url(\"css-pics/bd_logo.png\"), url(\"css-pics/white-background.jpg\");\n",
    "    background-position: 98% 2%, center;\n",
    "    background-repeat: no-repeat, no-repeat;\n",
    "    background-size: 100px 100px, cover;\n",
    "}\n",
    "```"
   ]
  },
  {
   "cell_type": "markdown",
   "metadata": {
    "slideshow": {
     "slide_type": "subslide"
    }
   },
   "source": [
    "- **postBuild**\n",
    "\n",
    "```\n",
    "jupyter-nbextension install rise --py --sys-prefix\n",
    "jupyter-nbextension enable rise --py --sys-prefix\n",
    "python dash-try.py &\n",
    "```\n",
    "\n",
    "- **.gitignore, folder with CSS pics, ...**"
   ]
  },
  {
   "cell_type": "markdown",
   "metadata": {
    "slideshow": {
     "slide_type": "subslide"
    }
   },
   "source": [
    "Then just:\n",
    "- push to GitHub\n",
    "- copy GitHub repo link\n",
    "- go to https://mybinder.org/ and past it in there, and run the build!\n",
    "\n",
    "\n",
    "Binder:\n",
    "- users are guaranteed **at least 1GB of RAM**, with a maximum of 2GB\n",
    "- will automatically **shut down** user sessions that have more than **10 minutes of inactivity**\n",
    "- aims to provide **at least 12 hours of session time per user session**\n"
   ]
  },
  {
   "cell_type": "markdown",
   "metadata": {},
   "source": [
    "!["
   ]
  }
 ],
 "metadata": {
  "celltoolbar": "Slideshow",
  "kernelspec": {
   "display_name": "Python 3",
   "language": "python",
   "name": "python3"
  },
  "language_info": {
   "codemirror_mode": {
    "name": "ipython",
    "version": 3
   },
   "file_extension": ".py",
   "mimetype": "text/x-python",
   "name": "python",
   "nbconvert_exporter": "python",
   "pygments_lexer": "ipython3",
   "version": "3.6.5"
  },
  "livereveal": {
   "scroll": "true",
   "start_slideshow_at": "selected",
   "theme": "sky",
   "transition": "zoom"
  }
 },
 "nbformat": 4,
 "nbformat_minor": 2
}
