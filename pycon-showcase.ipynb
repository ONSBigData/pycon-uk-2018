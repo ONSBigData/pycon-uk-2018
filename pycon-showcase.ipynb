{
 "cells": [
  {
   "cell_type": "markdown",
   "metadata": {},
   "source": [
    "### About PyCon"
   ]
  },
  {
   "cell_type": "markdown",
   "metadata": {},
   "source": [
    "- all volunteers, paying for their tickets\n",
    "- strong code of conduct\n",
    "- coffee/lunch\n",
    "- many pycons - Nigeria\n",
    "- how to ask a question"
   ]
  }
 ],
 "metadata": {
  "kernelspec": {
   "display_name": "Python 3",
   "language": "python",
   "name": "python3"
  },
  "language_info": {
   "codemirror_mode": {
    "name": "ipython",
    "version": 3
   },
   "file_extension": ".py",
   "mimetype": "text/x-python",
   "name": "python",
   "nbconvert_exporter": "python",
   "pygments_lexer": "ipython3",
   "version": "3.6.5"
  }
 },
 "nbformat": 4,
 "nbformat_minor": 2
}
