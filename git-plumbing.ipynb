{
 "cells": [
  {
   "cell_type": "markdown",
   "metadata": {
    "slideshow": {
     "slide_type": "slide"
    }
   },
   "source": [
    "# PyCon 2018: Alex Chan - Plumber's guide to Git"
   ]
  },
  {
   "cell_type": "markdown",
   "metadata": {
    "slideshow": {
     "slide_type": "subslide"
    }
   },
   "source": [
    "# The simple idea"
   ]
  },
  {
   "cell_type": "markdown",
   "metadata": {
    "slideshow": {
     "slide_type": "-"
    }
   },
   "source": [
    "![git plumber](pics/git-plumber.png)"
   ]
  },
  {
   "cell_type": "markdown",
   "metadata": {
    "slideshow": {
     "slide_type": "subslide"
    }
   },
   "source": [
    "### `git hash-object` - create a new object and get hash"
   ]
  },
  {
   "cell_type": "markdown",
   "metadata": {},
   "source": [
    "<pre>\n",
    "ons21553@ons21553 ~/w/p/gitworkshop> <b>git hash-object -w myfile.txt</b>\n",
    "f3a34851d44d6b97c90fbb99dd3d18c261b9a237\n",
    "</pre>"
   ]
  },
  {
   "cell_type": "markdown",
   "metadata": {},
   "source": [
    "Without `-w` is just returning hash. With `-w` is actually creating a new blob"
   ]
  },
  {
   "cell_type": "markdown",
   "metadata": {
    "slideshow": {
     "slide_type": "subslide"
    }
   },
   "source": [
    "### `git cat-file` - look what's in the object"
   ]
  },
  {
   "cell_type": "markdown",
   "metadata": {},
   "source": [
    "<pre>\n",
    "ons21553@ons21553 ~/w/p/code> <b>git cat-file -p f3a34851d44d6b97c90fbb99dd3d18c261b9a237</b>\n",
    "text⏎  \n",
    "</pre>"
   ]
  },
  {
   "cell_type": "markdown",
   "metadata": {},
   "source": [
    "`-p` for \"pretty print\""
   ]
  },
  {
   "cell_type": "markdown",
   "metadata": {
    "slideshow": {
     "slide_type": "subslide"
    }
   },
   "source": [
    "### `git update-index`"
   ]
  },
  {
   "cell_type": "markdown",
   "metadata": {},
   "source": [
    "<pre>\n",
    "    ons21553@ons21553 ~/w/p/gitworkshop> <b>git update-index --add dir/*</b>\n",
    "</pre>"
   ]
  },
  {
   "cell_type": "markdown",
   "metadata": {},
   "source": [
    "To see what is in the index"
   ]
  },
  {
   "cell_type": "markdown",
   "metadata": {},
   "source": [
    "<pre>\n",
    "    ons21553@ons21553 ~/w/p/c/gitplumb> <b>git ls-files</b>\n",
    "    dir/myfile.txt\n",
    "    dir/myfile2.txt\n",
    "</pre>"
   ]
  },
  {
   "cell_type": "markdown",
   "metadata": {
    "slideshow": {
     "slide_type": "subslide"
    }
   },
   "source": [
    "### `git write-tree` - write current index"
   ]
  },
  {
   "cell_type": "markdown",
   "metadata": {},
   "source": [
    "<pre>\n",
    "    ons21553@ons21553 ~/w/p/gitworkshop> <b>git write-tree</b>\n",
    "    8e244381cede0787b9a55815a01339e3cd15539e\n",
    "</pre>"
   ]
  },
  {
   "cell_type": "markdown",
   "metadata": {},
   "source": [
    "<pre>\n",
    "    ons21553@ons21553 ~/w/p/gitworkshop> <b>git cat-file -p 8e244381cede0787b9a55815a01339e3cd15539e</b>\n",
    "    040000 tree 5e8ba07255ee203bd74f8e878ad3fd7db4614b2e\tdir\n",
    "</pre>"
   ]
  },
  {
   "cell_type": "markdown",
   "metadata": {},
   "source": [
    "<pre>\n",
    "    ons21553@ons21553 ~/w/p/c/gitplumb> <b>git cat-file -p 5e8ba07255ee203bd74f8e878ad3fd7db4614b2e</b>\n",
    "    100644 blob f3a34851d44d6b97c90fbb99dd3d18c261b9a237\tmyfile.txt\n",
    "    100644 blob 009b64bae3ba6955fcd9df43f7483b4d14477d63\tmyfile2.txt\n",
    "</pre>"
   ]
  },
  {
   "cell_type": "markdown",
   "metadata": {
    "slideshow": {
     "slide_type": "subslide"
    }
   },
   "source": [
    "### `git commit-tree` - create a commit"
   ]
  },
  {
   "cell_type": "markdown",
   "metadata": {},
   "source": [
    "<pre>\n",
    "    ons21553@ons21553 ~/w/p/gitworkshop> <b>echo \"initial commit\" | git commit-tree 8e244381cede0787b9a55815a01339e3cd15539e </b>\n",
    "    ec403f9469f23845ebcca4a59199f86c7a8be064\n",
    "</pre>"
   ]
  },
  {
   "cell_type": "markdown",
   "metadata": {},
   "source": [
    "<pre>\n",
    "    ons21553@ons21553 ~/w/p/gitworkshop> <b>git cat-file -p ec403f9469f23845ebcca4a59199f86c7a8be064</b>\n",
    "    tree 8e244381cede0787b9a55815a01339e3cd15539e\n",
    "    author fero <fhajnovic.ons@gmail.com> 1539361713 +0100\n",
    "    committer fero <fhajnovic.ons@gmail.com> 1539361713 +0100\n",
    "\n",
    "    initial commit\n",
    "</pre>"
   ]
  },
  {
   "cell_type": "markdown",
   "metadata": {
    "slideshow": {
     "slide_type": "subslide"
    }
   },
   "source": [
    "### Make a parent commit"
   ]
  },
  {
   "cell_type": "markdown",
   "metadata": {
    "slideshow": {
     "slide_type": "-"
    }
   },
   "source": [
    "<pre>\n",
    "    ons21553@ons21553 ~/w/p/c/gitplumb> <b>echo \"parent commit\" | git commit-tree 86dd7b6d722800057a7f565bdcbcf15b2313fe53 -p ec403f9469f23845ebcca4a59199f86c7a8be064</b>\n",
    "    d1fdd0fd2ec057098b78554dbdbf2c22a39847e0\n",
    "</pre>"
   ]
  },
  {
   "cell_type": "markdown",
   "metadata": {},
   "source": [
    "<pre>\n",
    "    ons21553@ons21553 ~/w/p/c/gitplumb> <b>git cat-file -p d1fdd0fd2ec057098b78554dbdbf2c22a39847e0</b>\n",
    "    tree 86dd7b6d722800057a7f565bdcbcf15b2313fe53\n",
    "    parent ec403f9469f23845ebcca4a59199f86c7a8be064\n",
    "    author fero <fhajnovic.ons@gmail.com> 1539361986 +0100\n",
    "    committer fero <fhajnovic.ons@gmail.com> 1539361986 +0100\n",
    "\n",
    "    parent commit\n",
    "</pre>"
   ]
  },
  {
   "cell_type": "markdown",
   "metadata": {
    "slideshow": {
     "slide_type": "subslide"
    }
   },
   "source": [
    "![git plumber](pics/git-plumber.png)"
   ]
  },
  {
   "cell_type": "markdown",
   "metadata": {
    "slideshow": {
     "slide_type": "subslide"
    }
   },
   "source": [
    "### `git update-ref` - link the commit with the branch"
   ]
  },
  {
   "cell_type": "markdown",
   "metadata": {},
   "source": [
    "<pre>\n",
    "    <b>git update-ref refs/heads/master d1fdd0fd2ec057098b78554dbdbf2c22a39847e0</b>\n",
    "</pre>"
   ]
  }
 ],
 "metadata": {
  "celltoolbar": "Slideshow",
  "kernelspec": {
   "display_name": "Python 3",
   "language": "python",
   "name": "python3"
  },
  "language_info": {
   "codemirror_mode": {
    "name": "ipython",
    "version": 3
   },
   "file_extension": ".py",
   "mimetype": "text/x-python",
   "name": "python",
   "nbconvert_exporter": "python",
   "pygments_lexer": "ipython3",
   "version": "3.7.0"
  }
 },
 "nbformat": 4,
 "nbformat_minor": 2
}
