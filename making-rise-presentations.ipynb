{
 "cells": [
  {
   "cell_type": "markdown",
   "metadata": {
    "slideshow": {
     "slide_type": "slide"
    }
   },
   "source": [
    "# Installing RISE"
   ]
  },
  {
   "cell_type": "markdown",
   "metadata": {},
   "source": [
    "### Install Rise package"
   ]
  },
  {
   "cell_type": "markdown",
   "metadata": {},
   "source": [
    "First of all, for this presentation, we need to install RISE\n",
    "\n",
    "`pip install RISE`\n",
    "\n",
    "You will also likely need to run:\n",
    "\n",
    "`jupyter-nbextension install rise --py --sys-prefix`\n",
    "\n",
    "and \n",
    "\n",
    "`jupyter-nbextension enable rise --py --sys-prefix`"
   ]
  },
  {
   "cell_type": "markdown",
   "metadata": {},
   "source": [
    "I also recommend updating Jupyter Notebook to latest version to avoid any compatibility issues. \n",
    "\n",
    "*Note: JupyterLab does not seem to support RISE yet, although work on RISE extension is in progress.*"
   ]
  },
  {
   "cell_type": "markdown",
   "metadata": {},
   "source": [
    "[more info on installation](https://damianavila.github.io/RISE/installation.html#installation)"
   ]
  },
  {
   "cell_type": "markdown",
   "metadata": {
    "slideshow": {
     "slide_type": "slide"
    }
   },
   "source": [
    "# Configuring RISE"
   ]
  },
  {
   "cell_type": "markdown",
   "metadata": {},
   "source": [
    "You may want to configure a bit the presentation - template, transitions...."
   ]
  },
  {
   "cell_type": "markdown",
   "metadata": {},
   "source": [
    "### Option 1 - modifying `livereveal.json` in `.nbconfig` folder"
   ]
  },
  {
   "cell_type": "markdown",
   "metadata": {},
   "source": [
    "[link](https://damianavila.github.io/RISE/customize.html#using-python)\n",
    "\n",
    "On my system, the right folder is:\n",
    "\n",
    "in `~/.jupyter/nbconfig/`"
   ]
  },
  {
   "cell_type": "markdown",
   "metadata": {},
   "source": [
    "    ons21553@ons21553 ~/.j/nbconfig> pwd\n",
    "    /home/ons21553/.jupyter/nbconfig\n",
    "    ons21553@ons21553 ~/.j/nbconfig> cat livereveal.json \n",
    "    {\n",
    "      \"theme\": \"sky\",\n",
    "      \"transition\": \"zoom\",\n",
    "      \"start_slideshow_at\": \"selected\"\n",
    "    }"
   ]
  },
  {
   "cell_type": "markdown",
   "metadata": {},
   "source": [
    "The config can be modified directly from jupyter notebook."
   ]
  },
  {
   "cell_type": "code",
   "execution_count": 1,
   "metadata": {},
   "outputs": [
    {
     "data": {
      "text/plain": [
       "{'theme': 'sky', 'transition': 'zoom', 'start_slideshow_at': 'selected'}"
      ]
     },
     "execution_count": 1,
     "metadata": {},
     "output_type": "execute_result"
    }
   ],
   "source": [
    "from traitlets.config.manager import BaseJSONConfigManager\n",
    "path = \"/home/ons21553/.jupyter/nbconfig\"\n",
    "cm = BaseJSONConfigManager(config_dir=path)\n",
    "cm.update(\"livereveal\", {\n",
    "              \"theme\": \"sky\",\n",
    "              \"transition\": \"zoom\",\n",
    "              \"start_slideshow_at\": \"selected\",\n",
    "})"
   ]
  },
  {
   "cell_type": "markdown",
   "metadata": {},
   "source": [
    "### Option 2 - edit notebook metadata"
   ]
  },
  {
   "cell_type": "markdown",
   "metadata": {},
   "source": [
    "(In the edit menu)\n",
    "\n",
    "Put in e.g. \n",
    "\n",
    "```json\n",
    "\"livereveal\": { \n",
    "    \"start_slideshow_at\": \"selected\",\n",
    "    \"theme\": \"sky\",\n",
    "    \"transition\": \"zoom\",\n",
    "    \"scroll\": \"true\"\n",
    "}\n",
    "```"
   ]
  },
  {
   "cell_type": "markdown",
   "metadata": {},
   "source": [
    "**You need to reload the notebook to apply the changes**"
   ]
  },
  {
   "cell_type": "markdown",
   "metadata": {},
   "source": [
    "# Custom CSS"
   ]
  },
  {
   "cell_type": "markdown",
   "metadata": {},
   "source": [
    "To adjust the look and feel of the presentation, you may use custom CSS.\n",
    "\n",
    "[more info](https://damianavila.github.io/RISE/customize.html#adding-custom-css)\n",
    "\n",
    "Name the file `rise.css` and place it in the directory along with the notebook.\n",
    "\n",
    "Example CSS:\n",
    "\n",
    "```css\n",
    ".rise-enabled h1 {\n",
    "    text-align: center;\n",
    "}\n",
    "\n",
    ".rise-enabled div#notebook {\n",
    "    background-image: url(\"css-pics/bd_logo.png\"), url(\"css-pics/white-background.jpg\");\n",
    "    background-position: 98% 2%, center;\n",
    "    background-repeat: no-repeat, no-repeat;\n",
    "    background-size: 100px 100px, cover;\n",
    "}\n",
    "\n",
    "```\n",
    "\n",
    "Note the `.rise-enabled` prefix - this ensure the styles are applied only in presentation mode"
   ]
  },
  {
   "cell_type": "markdown",
   "metadata": {},
   "source": [
    "# Shortcuts"
   ]
  },
  {
   "cell_type": "markdown",
   "metadata": {},
   "source": [
    "alt + R -> enter/exit presentation\n",
    "\n",
    "space -> next\n",
    "\n",
    "shift + space -> previous"
   ]
  },
  {
   "cell_type": "markdown",
   "metadata": {},
   "source": [
    "![](pics/shortcuts.png)"
   ]
  }
 ],
 "metadata": {
  "celltoolbar": "Slideshow",
  "kernelspec": {
   "display_name": "Python 3",
   "language": "python",
   "name": "python3"
  },
  "language_info": {
   "codemirror_mode": {
    "name": "ipython",
    "version": 3
   },
   "file_extension": ".py",
   "mimetype": "text/x-python",
   "name": "python",
   "nbconvert_exporter": "python",
   "pygments_lexer": "ipython3",
   "version": "3.6.5"
  },
  "livereveal": {
   "scroll": "true",
   "start_slideshow_at": "selected",
   "theme": "sky",
   "transition": "zoom"
  }
 },
 "nbformat": 4,
 "nbformat_minor": 2
}
